{
 "cells": [
  {
   "cell_type": "code",
   "execution_count": 1,
   "id": "4e4e97d4",
   "metadata": {
    "scrolled": true
   },
   "outputs": [],
   "source": [
    "import pandas as pd\n",
    "import seaborn as sns\n",
    "import matplotlib.pyplot as plt\n",
    "import numpy as np\n",
    "import sklearn\n",
    "import math\n",
    "from sklearn.linear_model import LinearRegression\n",
    "import sklearn.preprocessing\n",
    "# cross_validation is deprecated, use \"model_selection\"\n",
    "# import sklearn.model_selection"
   ]
  },
  {
   "cell_type": "markdown",
   "id": "3f3b6101",
   "metadata": {},
   "source": [
    "Exploring the Data"
   ]
  },
  {
   "cell_type": "code",
   "execution_count": 2,
   "id": "b77f9091",
   "metadata": {
    "scrolled": true
   },
   "outputs": [
    {
     "name": "stdout",
     "output_type": "stream",
     "text": [
      "            Date        Open        High         Low     Volume       Close\n",
      "1495  23-07-2021  299.658540  301.995035  298.400415   71447400  301.675507\n",
      "1496  26-07-2021  301.096392  304.211720  299.958083   72434100  302.534241\n",
      "1497  27-07-2021  302.793811  302.973565  295.664509  104818600  298.100861\n",
      "1498  28-07-2021  294.186727  298.500271  289.653510  118931200  294.526215\n",
      "1499  29-07-2021  293.947087  297.661523  293.727415   56699500  295.844238\n"
     ]
    }
   ],
   "source": [
    "df = pd.read_csv(r'C:\\Users\\d3583\\OneDrive\\Documents\\PESU\\Data-Analytics-Project\\KaggleCompetition\\train.csv')\n",
    "# print(df.describe())\n",
    "print(df.tail(5))\n",
    "#  High & Low tell us about the volatility "
   ]
  },
  {
   "cell_type": "code",
   "execution_count": 3,
   "id": "005283e7",
   "metadata": {},
   "outputs": [
    {
     "name": "stdout",
     "output_type": "stream",
     "text": [
      "no of duplicate rows (0, 6)\n",
      "Empty DataFrame\n",
      "Columns: [Date, Open, High, Low, Volume, Close]\n",
      "Index: []\n",
      "Date      0\n",
      "Open      0\n",
      "High      0\n",
      "Low       0\n",
      "Volume    0\n",
      "Close     0\n",
      "dtype: int64\n",
      "Date       object\n",
      "Open      float64\n",
      "High      float64\n",
      "Low       float64\n",
      "Volume      int64\n",
      "Close     float64\n",
      "dtype: object\n",
      "(1500, 6)\n"
     ]
    }
   ],
   "source": [
    "# finding duplicates\n",
    "dup_df = df[df.duplicated()]\n",
    "print(\"no of duplicate rows\", dup_df.shape)\n",
    "print(dup_df)\n",
    "# find null values\n",
    "print(df.isnull().sum())\n",
    "# shape etc\n",
    "print(df.dtypes)\n",
    "print(df.shape)\n",
    "\n",
    "\n",
    "df.dropna(inplace=True)"
   ]
  },
  {
   "cell_type": "code",
   "execution_count": 4,
   "id": "392fb3b7",
   "metadata": {},
   "outputs": [],
   "source": [
    "df['HLDiff'] = (df['High'] - df['Low'])"
   ]
  },
  {
   "cell_type": "code",
   "execution_count": 5,
   "id": "d58da7f3",
   "metadata": {
    "scrolled": false
   },
   "outputs": [
    {
     "name": "stdout",
     "output_type": "stream",
     "text": [
      "            Date        Open    HLDiff     Volume       Close\n",
      "0     14-08-2015   57.484790  1.055938  171718000   58.237720\n",
      "1     17-08-2015   58.274453  0.987075  163538800   58.788651\n",
      "2     18-08-2015   58.453501  0.656519  138242800   58.485638\n",
      "3     19-08-2015   58.301997  0.844750  193146000   57.801575\n",
      "4     20-08-2015   57.374601  1.248764  274006400   56.718082\n",
      "...          ...         ...       ...        ...         ...\n",
      "1495  23-07-2021  299.658540  3.594621   71447400  301.675507\n",
      "1496  26-07-2021  301.096392  4.253637   72434100  302.534241\n",
      "1497  27-07-2021  302.793811  7.309056  104818600  298.100861\n",
      "1498  28-07-2021  294.186727  8.846761  118931200  294.526215\n",
      "1499  29-07-2021  293.947087  3.934108   56699500  295.844238\n",
      "\n",
      "[1500 rows x 5 columns]\n"
     ]
    }
   ],
   "source": [
    "df = df[['Date','Open','HLDiff','Volume', 'Close']]\n",
    "print(df)"
   ]
  },
  {
   "cell_type": "code",
   "execution_count": 11,
   "id": "3357b209",
   "metadata": {},
   "outputs": [
    {
     "name": "stdout",
     "output_type": "stream",
     "text": [
      "            Date        Open    HLDiff     Volume       Close  DaysSince\n",
      "0     14-08-2015   57.484790  1.055938  171718000   58.237720          0\n",
      "1     17-08-2015   58.274453  0.987075  163538800   58.788651          1\n",
      "2     18-08-2015   58.453501  0.656519  138242800   58.485638          2\n",
      "3     19-08-2015   58.301997  0.844750  193146000   57.801575          3\n",
      "4     20-08-2015   57.374601  1.248764  274006400   56.718082          4\n",
      "...          ...         ...       ...        ...         ...        ...\n",
      "1495  23-07-2021  299.658540  3.594621   71447400  301.675507       1495\n",
      "1496  26-07-2021  301.096392  4.253637   72434100  302.534241       1496\n",
      "1497  27-07-2021  302.793811  7.309056  104818600  298.100861       1497\n",
      "1498  28-07-2021  294.186727  8.846761  118931200  294.526215       1498\n",
      "1499  29-07-2021  293.947087  3.934108   56699500  295.844238       1499\n",
      "\n",
      "[1500 rows x 6 columns]\n",
      "y =  0.1426517855065736 x+ 11.11673165602973\n"
     ]
    }
   ],
   "source": [
    "df['DaysSince'] = np.arange(df['Date'].size)\n",
    "x = np.arange(df['Date'].size)\n",
    "print(df)\n",
    "Xdf = df[['Open', 'Volume', 'DaysSince', 'HLDiff']]\n",
    "fit = np.polyfit(x, df['Close'], deg=1)\n",
    "print('y = ',fit[0],'x+',fit[1])"
   ]
  },
  {
   "cell_type": "code",
   "execution_count": 7,
   "id": "6eabf34c",
   "metadata": {},
   "outputs": [
    {
     "data": {
      "image/png": "[encoded data removed]",
      "text/plain": [
       "<Figure size 432x288 with 1 Axes>"
      ]
     },
     "metadata": {
      "needs_background": "light"
     },
     "output_type": "display_data"
    }
   ],
   "source": [
    "fit_function = np.poly1d(fit)\n",
    "\n",
    "#Time series data plot\n",
    "# plot the prediction\n",
    "plt.plot(df['Date'], fit_function(x), 'b')\n",
    "# plot the actual train values\n",
    "plt.plot(df['Date'], df['Close'], 'g')\n",
    "plt.xlabel('Date')\n",
    "plt.ylabel('Closing Price')\n",
    "plt.title('Stock Close Price')\n",
    "\n",
    "plt.show()"
   ]
  },
  {
   "cell_type": "code",
   "execution_count": 8,
   "id": "7b99691b",
   "metadata": {},
   "outputs": [
    {
     "name": "stdout",
     "output_type": "stream",
     "text": [
      "1500\n"
     ]
    }
   ],
   "source": [
    "print(df['Date'].size)"
   ]
  },
  {
   "cell_type": "code",
   "execution_count": null,
   "id": "4c3ec6f8",
   "metadata": {},
   "outputs": [],
   "source": [
    "#  fit_function(df['Date'].size + 14)\n",
    "prediction = fit_function(x)\n",
    "for ele in prediction:\n",
    "    print(ele)"
   ]
  },
  {
   "cell_type": "code",
   "execution_count": 19,
   "id": "181803b4",
   "metadata": {},
   "outputs": [
    {
     "name": "stdout",
     "output_type": "stream",
     "text": [
      "            Open     Volume  DaysSince    HLDiff\n",
      "0      57.484790  171718000          0  1.055938\n",
      "1      58.274453  163538800          1  0.987075\n",
      "2      58.453501  138242800          2  0.656519\n",
      "3      58.301997  193146000          3  0.844750\n",
      "4      57.374601  274006400          4  1.248764\n",
      "...          ...        ...        ...       ...\n",
      "1495  299.658540   71447400       1495  3.594621\n",
      "1496  301.096392   72434100       1496  4.253637\n",
      "1497  302.793811  104818600       1497  7.309056\n",
      "1498  294.186727  118931200       1498  8.846761\n",
      "1499  293.947087   56699500       1499  3.934108\n",
      "\n",
      "[1500 rows x 4 columns]\n",
      "[[5.74847899e+01 1.71718000e+08 0.00000000e+00 1.05593751e+00]\n",
      " [5.82744525e+01 1.63538800e+08 1.00000000e+00 9.87074740e-01]\n",
      " [5.84535005e+01 1.38242800e+08 2.00000000e+00 6.56519130e-01]\n",
      " ...\n",
      " [3.02793811e+02 1.04818600e+08 1.49700000e+03 7.30905630e+00]\n",
      " [2.94186727e+02 1.18931200e+08 1.49800000e+03 8.84676140e+00]\n",
      " [2.93947087e+02 5.66995000e+07 1.49900000e+03 3.93410810e+00]]\n",
      "1500 1500\n",
      "[[6.94873690e+01 9.80288000e+07 3.82000000e+02 3.64497920e-01]\n",
      " [7.84923101e+01 6.49212000e+07 5.38000000e+02 5.63082860e-01]\n",
      " [2.95624580e+02 7.49935000e+07 1.49300000e+03 2.99551200e+00]\n",
      " ...\n",
      " [7.80458099e+01 1.14843600e+08 8.60000000e+02 1.62356246e+00]\n",
      " [2.53188140e+02 5.92789000e+07 1.45900000e+03 2.37642910e+00]\n",
      " [1.64624981e+02 1.18826800e+08 1.12600000e+03 2.86665670e+00]]\n"
     ]
    }
   ],
   "source": [
    "df['DaysSince'] = np.arange(df['Date'].size)\n",
    "Xdf = df[['Open', 'Volume', 'DaysSince', 'HLDiff']]\n",
    "print(Xdf)\n",
    "X = Xdf.to_numpy()\n",
    "print(X)\n",
    "y = df['Close'].to_numpy()\n",
    "print(len(X), len(y))\n",
    "x_train, x_test, y_train, y_test = sklearn.model_selection.train_test_split(X, y, test_size = 0.2, random_state = 42)\n",
    "print(x_train)"
   ]
  },
  {
   "cell_type": "code",
   "execution_count": 20,
   "id": "5e97db0f",
   "metadata": {},
   "outputs": [
    {
     "data": {
      "text/plain": [
       "LinearRegression()"
      ]
     },
     "execution_count": 20,
     "metadata": {},
     "output_type": "execute_result"
    }
   ],
   "source": [
    "LR = LinearRegression()\n",
    "LR.fit(x_train,y_train)"
   ]
  },
  {
   "cell_type": "code",
   "execution_count": 21,
   "id": "17dc5b7f",
   "metadata": {},
   "outputs": [
    {
     "name": "stdout",
     "output_type": "stream",
     "text": [
      "[162.56401785 270.68069512  72.20452668  73.33116526  78.25059676\n",
      "  79.72880277 131.97953418  98.38010151 276.75698836  55.90275618\n",
      "  90.11923123 268.45219129  98.06506465 277.08741753  59.81049727\n",
      " 257.45535418 292.19875994  88.79334957  74.43467689  57.89558233\n",
      " 162.47107778 164.69304372 155.38677227 208.71602989 257.47320816\n",
      "  73.9720552  260.29189019 264.24441598 194.39625116 233.76209209\n",
      " 135.50098222  89.43586664 211.95416823 112.69624288  48.84763123\n",
      "  60.01200473  71.90146703  73.19716016 150.12887968  58.94560455\n",
      " 253.99922656  78.61508054 251.09605951  81.28660723 136.39683361\n",
      "  61.03373235  62.42362524  57.30331749  97.78536206 106.03578723\n",
      "  85.30010686  79.51814241 146.76343533 233.02706802  79.97785611\n",
      "  84.11932839  58.44196559  78.00164505  55.75644925  96.14727299\n",
      "  88.70467092  84.61596841  77.09253785  58.25404049 111.3019723\n",
      "  76.31479452  56.15180448 144.70173514 191.21723971  48.34716362\n",
      "  58.32515263  75.44874733 115.41197531  58.33519394  98.41578452\n",
      " 238.0634289   89.30177349  81.70328247  75.11848883 105.32236322\n",
      " 114.00267161  58.30943237  52.9651618  112.27798942 105.13651497\n",
      "  56.15172705  87.76016485 102.6432545  106.56350771 104.32657164\n",
      " 147.99917318  55.40920421  58.02085009 249.50017776 133.06067458\n",
      "  73.88560638  73.1965117   49.37251122 138.95292904  70.70598317\n",
      " 105.6017026   95.88951267 161.2745823  134.18095326  79.27201741\n",
      "  56.18763519  60.70738703 127.01194642  57.96717839  89.3640111\n",
      "  74.19330947 241.69757106  97.10297852  51.14708077  48.41630652\n",
      "  73.45642999 101.89597453  56.89835127  48.64024691 137.83306319\n",
      " 105.36878636 260.8273656  269.05978251  73.10266387  51.64391411\n",
      " 196.18576123 229.28159581 109.17009781 162.87556206  73.20360847\n",
      " 197.01867111  57.97928022 103.55630644 301.27160777  87.04368705\n",
      "  54.88978129  76.00170962  59.66154102 102.31886877  58.53708734\n",
      " 156.86207766  53.10464012 268.96506776  50.81780044  86.77424108\n",
      " 227.94766176  95.90307118 101.01604051  57.80843212 112.30599122\n",
      " 258.89667416 162.07658765 102.66502143 258.00153057  80.75315851\n",
      " 273.91202869 135.27408554  53.19004556  60.81989115  55.78599849\n",
      "  73.045447    59.50592485 115.93845315 247.65926131  50.41073356\n",
      "  50.25943892 303.03206776 120.75566592  99.17736251  69.27853756\n",
      "  53.88708646 145.78167616  80.78372524  96.04547369  50.69200806\n",
      "  53.79626117 161.39905634  85.22294809  75.40133353 235.80324653\n",
      "  59.10418952  86.0549831   50.50680302  55.46187736 244.2609776\n",
      " 104.15934252 109.85063557  69.02437553 136.49022717 253.45832107\n",
      "  87.67562218  90.36285726 243.16459196 241.2761492   97.23448138\n",
      "  55.38765064  97.45202591  60.44716568 107.00616081  72.03590697\n",
      " 103.54006241  88.7503173   72.0375219   73.32874886 148.25151099\n",
      " 103.07910579  49.11424163  88.74778679  59.68469679  79.65261897\n",
      "  58.47647465 143.61819448 111.33372703 262.66539532  55.34647537\n",
      "  60.11778871 180.98078181  73.702083   245.76278833  51.36501945\n",
      " 191.40977043 101.15137392  99.20421732  87.12389465  48.39207366\n",
      "  78.0400891   57.13539942  60.28502043 165.52567721 274.99773269\n",
      " 131.70237103  73.74898013  95.03241261 154.98390013 103.88561599\n",
      " 120.19900219 258.8019085  193.05806107 197.61281903 258.49831737\n",
      "  85.10715257 132.95059781  88.13454387  51.32069694  76.71641614\n",
      "  81.24290503 261.81583611 137.91140858 141.69306837  83.01992184\n",
      " 113.59369476  54.06800686 244.66640766  81.83663956 116.36774815\n",
      " 104.08078229  65.53859629  87.76995402 103.20097245 127.08329035\n",
      " 151.36133884  51.29449951  86.97905223 100.38399621 251.57784177\n",
      " 129.34271726  88.35335596  50.9902774  137.54698368  94.32055681\n",
      "  60.6552845   61.00586845  58.68868528 257.31034961  85.7754685\n",
      " 232.36338576 268.94397244 166.18618345  62.08286031 261.45105213\n",
      " 160.59044913 242.97882358 192.12527978  95.92601718  51.43381609\n",
      "  86.67892002  50.99125007 233.36268508  59.09981892 246.91620845\n",
      "  86.64417873 127.55733259  51.72887747 237.82001374 110.97903381\n",
      " 104.59522179 111.11350644 260.44454568 142.40085284  91.94152292]\n"
     ]
    }
   ],
   "source": [
    "y_prediction =  LR.predict(x_test)\n",
    "print(y_prediction)"
   ]
  },
  {
   "cell_type": "code",
   "execution_count": 23,
   "id": "905e094e",
   "metadata": {},
   "outputs": [
    {
     "name": "stdout",
     "output_type": "stream",
     "text": [
      "r2 score is  0.9989440615788491\n",
      "mean_sqrd_error is== 5.096983062984333\n",
      "root_mean_squared error of is== 2.2576498982314184\n"
     ]
    }
   ],
   "source": [
    "# importing r2_score module\n",
    "from sklearn.metrics import r2_score\n",
    "from sklearn.metrics import mean_squared_error\n",
    "# predicting the accuracy score\n",
    "score=r2_score(y_test,y_prediction)\n",
    "print('r2 score is ',score)\n",
    "print(\"mean_sqrd_error is==\",mean_squared_error(y_test,y_prediction))\n",
    "print(\"root_mean_squared error of is==\",np.sqrt(mean_squared_error(y_test,y_prediction)))"
   ]
  },
  {
   "cell_type": "code",
   "execution_count": null,
   "id": "03bf691c",
   "metadata": {},
   "outputs": [],
   "source": []
  }
 ],
 "metadata": {
  "kernelspec": {
   "display_name": "Python 3 (ipykernel)",
   "language": "python",
   "name": "python3"
  },
  "language_info": {
   "codemirror_mode": {
    "name": "ipython",
    "version": 3
   },
   "file_extension": ".py",
   "mimetype": "text/x-python",
   "name": "python",
   "nbconvert_exporter": "python",
   "pygments_lexer": "ipython3",
   "version": "3.9.7"
  }
 },
 "nbformat": 4,
 "nbformat_minor": 5
}
