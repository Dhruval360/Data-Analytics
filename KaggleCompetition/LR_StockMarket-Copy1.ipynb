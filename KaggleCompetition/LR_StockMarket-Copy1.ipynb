{
 "cells": [
  {
   "cell_type": "code",
   "execution_count": 1,
   "id": "4e4e97d4",
   "metadata": {
    "scrolled": true
   },
   "outputs": [],
   "source": [
    "import pandas as pd\n",
    "import seaborn as sns\n",
    "import matplotlib.pyplot as plt\n",
    "import numpy as np\n",
    "import sklearn\n",
    "import math\n",
    "from sklearn.linear_model import LinearRegression\n",
    "import sklearn.preprocessing\n",
    "# cross_validation is deprecated, use \"model_selection\"\n",
    "# import sklearn.model_selection"
   ]
  },
  {
   "cell_type": "markdown",
   "id": "3f3b6101",
   "metadata": {},
   "source": [
    "Exploring the Data"
   ]
  },
  {
   "cell_type": "code",
   "execution_count": 2,
   "id": "b77f9091",
   "metadata": {
    "scrolled": true
   },
   "outputs": [
    {
     "name": "stdout",
     "output_type": "stream",
     "text": [
      "            Date        Open        High         Low     Volume       Close\n",
      "1495  23-07-2021  299.658540  301.995035  298.400415   71447400  301.675507\n",
      "1496  26-07-2021  301.096392  304.211720  299.958083   72434100  302.534241\n",
      "1497  27-07-2021  302.793811  302.973565  295.664509  104818600  298.100861\n",
      "1498  28-07-2021  294.186727  298.500271  289.653510  118931200  294.526215\n",
      "1499  29-07-2021  293.947087  297.661523  293.727415   56699500  295.844238\n"
     ]
    }
   ],
   "source": [
    "df = pd.read_csv(r'C:\\Users\\d3583\\OneDrive\\Documents\\PESU\\Data-Analytics-Project\\KaggleCompetition\\train.csv')\n",
    "# print(df.describe())\n",
    "print(df.tail(5))\n",
    "#  High & Low tell us about the volatility "
   ]
  },
  {
   "cell_type": "code",
   "execution_count": 3,
   "id": "005283e7",
   "metadata": {},
   "outputs": [
    {
     "name": "stdout",
     "output_type": "stream",
     "text": [
      "no of duplicate rows (0, 6)\n",
      "Empty DataFrame\n",
      "Columns: [Date, Open, High, Low, Volume, Close]\n",
      "Index: []\n",
      "Date      0\n",
      "Open      0\n",
      "High      0\n",
      "Low       0\n",
      "Volume    0\n",
      "Close     0\n",
      "dtype: int64\n",
      "Date       object\n",
      "Open      float64\n",
      "High      float64\n",
      "Low       float64\n",
      "Volume      int64\n",
      "Close     float64\n",
      "dtype: object\n",
      "(1500, 6)\n"
     ]
    }
   ],
   "source": [
    "# finding duplicates\n",
    "dup_df = df[df.duplicated()]\n",
    "print(\"no of duplicate rows\", dup_df.shape)\n",
    "print(dup_df)\n",
    "# find null values\n",
    "print(df.isnull().sum())\n",
    "# shape etc\n",
    "print(df.dtypes)\n",
    "print(df.shape)\n"
   ]
  },
  {
   "cell_type": "code",
   "execution_count": 5,
   "id": "d58da7f3",
   "metadata": {
    "scrolled": false
   },
   "outputs": [
    {
     "name": "stdout",
     "output_type": "stream",
     "text": [
      "            Date       Close\n",
      "0     14-08-2015   58.237720\n",
      "1     17-08-2015   58.788651\n",
      "2     18-08-2015   58.485638\n",
      "3     19-08-2015   57.801575\n",
      "4     20-08-2015   56.718082\n",
      "...          ...         ...\n",
      "1495  23-07-2021  301.675507\n",
      "1496  26-07-2021  302.534241\n",
      "1497  27-07-2021  298.100861\n",
      "1498  28-07-2021  294.526215\n",
      "1499  29-07-2021  295.844238\n",
      "\n",
      "[1500 rows x 2 columns]\n"
     ]
    }
   ],
   "source": [
    "df = df[['Date', 'Close']]\n",
    "print(df)"
   ]
  },
  {
   "cell_type": "code",
   "execution_count": 11,
   "id": "3357b209",
   "metadata": {},
   "outputs": [
    {
     "name": "stdout",
     "output_type": "stream",
     "text": [
      "y =  0.1426517855065736 x+ 11.11673165602973\n"
     ]
    }
   ],
   "source": [
    "x = np.arange(df['Date'].size)\n",
    "fit = np.polyfit(x, df['Close'], deg=1)\n",
    "print('y = ',fit[0],'x+',fit[1])"
   ]
  },
  {
   "cell_type": "code",
   "execution_count": 15,
   "id": "bd48bbed",
   "metadata": {},
   "outputs": [
    {
     "data": {
      "image/png": "[encoded data removed]",
      "text/plain": [
       "<Figure size 432x288 with 1 Axes>"
      ]
     },
     "metadata": {
      "needs_background": "light"
     },
     "output_type": "display_data"
    }
   ],
   "source": [
    "fit_function = np.poly1d(fit)\n",
    "plt.plot(df['Date'], fit_function(x))\n",
    "\n",
    "#Time series data plot\n",
    "plt.plot(df['Date'], df['Close'])\n",
    "plt.xlabel('Date')\n",
    "plt.ylabel('Closing Price')\n",
    "plt.title('Stock Close Price')\n",
    "\n",
    "plt.show()"
   ]
  },
  {
   "cell_type": "code",
   "execution_count": 17,
   "id": "cdb8e2ce",
   "metadata": {},
   "outputs": [
    {
     "name": "stdout",
     "output_type": "stream",
     "text": [
      "227.09153491298215\n"
     ]
    }
   ],
   "source": [
    "prediction = fit_function(df['Date'].size + 14)\n",
    "print(prediction)"
   ]
  },
  {
   "cell_type": "code",
   "execution_count": null,
   "id": "f3f3ec60",
   "metadata": {},
   "outputs": [],
   "source": []
  }
 ],
 "metadata": {
  "kernelspec": {
   "display_name": "Python 3 (ipykernel)",
   "language": "python",
   "name": "python3"
  },
  "language_info": {
   "codemirror_mode": {
    "name": "ipython",
    "version": 3
   },
   "file_extension": ".py",
   "mimetype": "text/x-python",
   "name": "python",
   "nbconvert_exporter": "python",
   "pygments_lexer": "ipython3",
   "version": "3.9.7"
  }
 },
 "nbformat": 4,
 "nbformat_minor": 5
}
