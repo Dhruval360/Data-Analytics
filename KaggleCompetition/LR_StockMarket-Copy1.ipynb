{
 "cells": [
  {
   "cell_type": "code",
   "execution_count": 1,
   "id": "4e4e97d4",
   "metadata": {
    "scrolled": true
   },
   "outputs": [],
   "source": [
    "import pandas as pd\n",
    "import seaborn as sns\n",
    "import matplotlib.pyplot as plt\n",
    "import numpy as np\n",
    "import sklearn\n",
    "import math\n",
    "from sklearn.linear_model import LinearRegression\n",
    "import sklearn.preprocessing\n",
    "# cross_validation is deprecated, use \"model_selection\"\n",
    "# import sklearn.model_selection"
   ]
  },
  {
   "cell_type": "markdown",
   "id": "3f3b6101",
   "metadata": {},
   "source": [
    "Exploring the Data"
   ]
  },
  {
   "cell_type": "code",
   "execution_count": 2,
   "id": "b77f9091",
   "metadata": {
    "scrolled": true
   },
   "outputs": [
    {
     "name": "stdout",
     "output_type": "stream",
     "text": [
      "            Date        Open        High         Low     Volume       Close\n",
      "1495  23-07-2021  299.658540  301.995035  298.400415   71447400  301.675507\n",
      "1496  26-07-2021  301.096392  304.211720  299.958083   72434100  302.534241\n",
      "1497  27-07-2021  302.793811  302.973565  295.664509  104818600  298.100861\n",
      "1498  28-07-2021  294.186727  298.500271  289.653510  118931200  294.526215\n",
      "1499  29-07-2021  293.947087  297.661523  293.727415   56699500  295.844238\n"
     ]
    }
   ],
   "source": [
    "df = pd.read_csv(r'C:\\Users\\d3583\\OneDrive\\Documents\\PESU\\Data-Analytics-Project\\KaggleCompetition\\train.csv')\n",
    "# print(df.describe())\n",
    "print(df.tail(5))\n",
    "#  High & Low tell us about the volatility "
   ]
  },
  {
   "cell_type": "code",
   "execution_count": 3,
   "id": "005283e7",
   "metadata": {},
   "outputs": [
    {
     "name": "stdout",
     "output_type": "stream",
     "text": [
      "no of duplicate rows (0, 6)\n",
      "Empty DataFrame\n",
      "Columns: [Date, Open, High, Low, Volume, Close]\n",
      "Index: []\n",
      "Date      0\n",
      "Open      0\n",
      "High      0\n",
      "Low       0\n",
      "Volume    0\n",
      "Close     0\n",
      "dtype: int64\n",
      "Date       object\n",
      "Open      float64\n",
      "High      float64\n",
      "Low       float64\n",
      "Volume      int64\n",
      "Close     float64\n",
      "dtype: object\n",
      "(1500, 6)\n"
     ]
    }
   ],
   "source": [
    "# finding duplicates\n",
    "dup_df = df[df.duplicated()]\n",
    "print(\"no of duplicate rows\", dup_df.shape)\n",
    "print(dup_df)\n",
    "# find null values\n",
    "print(df.isnull().sum())\n",
    "# shape etc\n",
    "print(df.dtypes)\n",
    "print(df.shape)\n",
    "\n",
    "\n",
    "df.dropna(inplace=True)"
   ]
  },
  {
   "cell_type": "code",
   "execution_count": 4,
   "id": "6e472fd9",
   "metadata": {},
   "outputs": [],
   "source": [
    "df['HLDiff'] = (df['High'] - df['Low'])"
   ]
  },
  {
   "cell_type": "code",
   "execution_count": 5,
   "id": "d58da7f3",
   "metadata": {
    "scrolled": false
   },
   "outputs": [
    {
     "name": "stdout",
     "output_type": "stream",
     "text": [
      "            Date        Open    HLDiff     Volume       Close\n",
      "0     14-08-2015   57.484790  1.055938  171718000   58.237720\n",
      "1     17-08-2015   58.274453  0.987075  163538800   58.788651\n",
      "2     18-08-2015   58.453501  0.656519  138242800   58.485638\n",
      "3     19-08-2015   58.301997  0.844750  193146000   57.801575\n",
      "4     20-08-2015   57.374601  1.248764  274006400   56.718082\n",
      "...          ...         ...       ...        ...         ...\n",
      "1495  23-07-2021  299.658540  3.594621   71447400  301.675507\n",
      "1496  26-07-2021  301.096392  4.253637   72434100  302.534241\n",
      "1497  27-07-2021  302.793811  7.309056  104818600  298.100861\n",
      "1498  28-07-2021  294.186727  8.846761  118931200  294.526215\n",
      "1499  29-07-2021  293.947087  3.934108   56699500  295.844238\n",
      "\n",
      "[1500 rows x 5 columns]\n"
     ]
    }
   ],
   "source": [
    "df = df[['Date','Open','HLDiff','Volume', 'Close']]\n",
    "print(df)"
   ]
  },
  {
   "cell_type": "code",
   "execution_count": 19,
   "id": "3357b209",
   "metadata": {},
   "outputs": [
    {
     "name": "stdout",
     "output_type": "stream",
     "text": [
      "y =  0.1426517855065736 x+ 11.11673165602973\n"
     ]
    }
   ],
   "source": [
    "df['DaysSince'] = np.arange(df['Date'].size)\n",
    "x = np.arange(df['Date'].size)\n",
    "# print(df)\n",
    "Xdf = df[['Open', 'Volume', 'HLDiff',  'DaysSince']]\n",
    "fit = np.polyfit(x, df['Close'], deg=1)\n",
    "print('y = ',fit[0],'x+',fit[1])"
   ]
  },
  {
   "cell_type": "code",
   "execution_count": 20,
   "id": "41821618",
   "metadata": {},
   "outputs": [],
   "source": [
    "# fit_function = np.poly1d(fit)\n",
    "\n",
    "# #Time series data plot\n",
    "# # plot the prediction\n",
    "# plt.plot(df['Date'], fit_function(x), 'b')\n",
    "# # plot the actual train values\n",
    "# plt.plot(df['Date'], df['Close'], 'g')\n",
    "# plt.xlabel('Date')\n",
    "# plt.ylabel('Closing Price')\n",
    "# plt.title('Stock Close Price')\n",
    "# print('hi')\n",
    "# plt.show()\n",
    "\n",
    "# print(fit_function(x))"
   ]
  },
  {
   "cell_type": "code",
   "execution_count": 21,
   "id": "0d7e3c57",
   "metadata": {},
   "outputs": [
    {
     "name": "stdout",
     "output_type": "stream",
     "text": [
      "1500\n"
     ]
    }
   ],
   "source": [
    "print(df['Date'].size)"
   ]
  },
  {
   "cell_type": "code",
   "execution_count": 23,
   "id": "19153988",
   "metadata": {},
   "outputs": [
    {
     "name": "stdout",
     "output_type": "stream",
     "text": [
      "            Open     Volume    HLDiff  DaysSince\n",
      "0      57.484790  171718000  1.055938          0\n",
      "1      58.274453  163538800  0.987075          1\n",
      "2      58.453501  138242800  0.656519          2\n",
      "3      58.301997  193146000  0.844750          3\n",
      "4      57.374601  274006400  1.248764          4\n",
      "...          ...        ...       ...        ...\n",
      "1495  299.658540   71447400  3.594621       1495\n",
      "1496  301.096392   72434100  4.253637       1496\n",
      "1497  302.793811  104818600  7.309056       1497\n",
      "1498  294.186727  118931200  8.846761       1498\n",
      "1499  293.947087   56699500  3.934108       1499\n",
      "\n",
      "[1500 rows x 4 columns]\n",
      "[[5.74847899e+01 1.71718000e+08 1.05593751e+00 0.00000000e+00]\n",
      " [5.82744525e+01 1.63538800e+08 9.87074740e-01 1.00000000e+00]\n",
      " [5.84535005e+01 1.38242800e+08 6.56519130e-01 2.00000000e+00]\n",
      " ...\n",
      " [3.02793811e+02 1.04818600e+08 7.30905630e+00 1.49700000e+03]\n",
      " [2.94186727e+02 1.18931200e+08 8.84676140e+00 1.49800000e+03]\n",
      " [2.93947087e+02 5.66995000e+07 3.93410810e+00 1.49900000e+03]]\n",
      "1500 1500\n",
      "[[4.88015912e+01 1.83857200e+08 1.27254896e+00 1.18000000e+02]\n",
      " [5.11823054e+01 8.33924000e+07 4.10425200e-01 2.05000000e+02]\n",
      " [7.69024457e+01 1.34272800e+08 1.05046464e+00 4.43000000e+02]\n",
      " ...\n",
      " [8.25961559e+01 2.86856000e+08 2.47662651e+00 5.23000000e+02]\n",
      " [8.12457029e+01 7.59892000e+07 7.82594230e-01 5.48000000e+02]\n",
      " [7.62512437e+01 7.93836000e+07 1.04571398e+00 4.93000000e+02]]\n"
     ]
    }
   ],
   "source": [
    "df['DaysSince'] = np.arange(df['Date'].size)\n",
    "Xdf = df[['Open', 'Volume', 'HLDiff', 'DaysSince']]\n",
    "print(Xdf)\n",
    "X = Xdf.to_numpy()\n",
    "print(X)\n",
    "y = df['Close'].to_numpy()\n",
    "print(len(X), len(y))\n",
    "x_train, x_test, y_train, y_test = sklearn.model_selection.train_test_split(X, y, test_size = 0.2)\n",
    "print(x_train)"
   ]
  },
  {
   "cell_type": "code",
   "execution_count": 24,
   "id": "ffb6de6b",
   "metadata": {},
   "outputs": [
    {
     "data": {
      "text/plain": [
       "LinearRegression()"
      ]
     },
     "execution_count": 24,
     "metadata": {},
     "output_type": "execute_result"
    }
   ],
   "source": [
    "LR = LinearRegression()\n",
    "LR.fit(x_train,y_train)"
   ]
  },
  {
   "cell_type": "code",
   "execution_count": 25,
   "id": "cf9d0f2b",
   "metadata": {},
   "outputs": [
    {
     "name": "stdout",
     "output_type": "stream",
     "text": [
      "[[8.76306511e+01 8.97384000e+07 6.65680760e-01 6.02000000e+02]\n",
      " [1.34048940e+02 8.73888000e+07 9.22656900e-01 1.06900000e+03]\n",
      " [1.54964035e+02 1.15215200e+08 1.58263550e+00 1.19000000e+03]\n",
      " ...\n",
      " [1.44024115e+02 3.20605600e+08 6.44921960e+00 1.14100000e+03]\n",
      " [5.37908741e+01 1.29777600e+08 9.64229050e-01 1.51000000e+02]\n",
      " [9.77643245e+01 2.04136800e+08 3.18294800e+00 9.05000000e+02]]\n"
     ]
    }
   ],
   "source": [
    "print(x_test)"
   ]
  },
  {
   "cell_type": "code",
   "execution_count": 26,
   "id": "56ace684",
   "metadata": {},
   "outputs": [
    {
     "name": "stdout",
     "output_type": "stream",
     "text": [
      "300 300\n"
     ]
    }
   ],
   "source": [
    "y_prediction =  LR.predict(x_test)\n",
    "print(len(y_prediction), len(y_test))"
   ]
  },
  {
   "cell_type": "code",
   "execution_count": 13,
   "id": "21f467bd",
   "metadata": {},
   "outputs": [
    {
     "name": "stdout",
     "output_type": "stream",
     "text": [
      "r2 score is  0.9989440615788491\n",
      "MSE is  5.096983062984333\n",
      "RMSE error of is  2.2576498982314184\n"
     ]
    }
   ],
   "source": [
    "# importing r2_score module\n",
    "from sklearn.metrics import r2_score\n",
    "from sklearn.metrics import mean_squared_error\n",
    "# predicting the accuracy score\n",
    "score = r2_score(y_test,y_prediction)\n",
    "print('r2 score is ',score)\n",
    "print(\"MSE is \",mean_squared_error(y_test,y_prediction))\n",
    "print(\"RMSE error of is \",np.sqrt(mean_squared_error(y_test,y_prediction)))"
   ]
  },
  {
   "cell_type": "code",
   "execution_count": 14,
   "id": "aaa4bbc1",
   "metadata": {},
   "outputs": [
    {
     "data": {
      "image/png": "[encoded data removed]",
      "text/plain": [
       "<Figure size 432x288 with 1 Axes>"
      ]
     },
     "metadata": {
      "needs_background": "light"
     },
     "output_type": "display_data"
    }
   ],
   "source": [
    "plt.plot(x_test, y_prediction, 'b')\n",
    "# plt.plot(df['Date'], df['Close'], 'b')\n",
    "plt.show()\n",
    "# print(len(y_prediction), len(df['Date']))"
   ]
  },
  {
   "cell_type": "code",
   "execution_count": null,
   "id": "889a4b50",
   "metadata": {},
   "outputs": [],
   "source": []
  }
 ],
 "metadata": {
  "kernelspec": {
   "display_name": "Python 3 (ipykernel)",
   "language": "python",
   "name": "python3"
  },
  "language_info": {
   "codemirror_mode": {
    "name": "ipython",
    "version": 3
   },
   "file_extension": ".py",
   "mimetype": "text/x-python",
   "name": "python",
   "nbconvert_exporter": "python",
   "pygments_lexer": "ipython3",
   "version": "3.9.7"
  }
 },
 "nbformat": 4,
 "nbformat_minor": 5
}
