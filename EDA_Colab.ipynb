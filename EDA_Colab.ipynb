{
  "cells": [
    {
      "cell_type": "markdown",
      "metadata": {},
      "source": [
        "# Exploratory Data Analysis of the DengAI dataset\n",
        "\n",
        "## Sections\n",
        "1. [Data Ingestion](#Data_Ingestion)\n",
        "2. [Summary Statistics](#Summary_Statistics)\n",
        "3. Data Cleaning and Preprocessing\n",
        "4. [Visualization](#Visualization)\n",
        "5. Performing different tests {Correlation analysis, Dickey Fuller test, ADF, etc.}\n",
        "6. [Conclusions](#Conclusions)\n",
        "\n",
        "7. Experimenting with different models"
      ]
    },
    {
      "cell_type": "markdown",
      "metadata": {
        "id": "BJ9y0KNHMa7O"
      },
      "source": [
        "## Importing required libraries"
      ]
    },
    {
      "cell_type": "code",
      "execution_count": null,
      "metadata": {
        "colab": {
          "base_uri": "https://localhost:8080/"
        },
        "id": "qyGyszbS_IHH",
        "outputId": "9a36d60d-2a56-4a10-9f84-bd2562a36659"
      },
      "outputs": [],
      "source": [
        "import pandas as pd\n",
        "import matplotlib.pyplot as plt\n",
        "from matplotlib.pyplot import figure\n",
        "import numpy as np\n",
        "import seaborn as sns\n",
        "sns.set()\n",
        "from statsmodels.tsa.seasonal import seasonal_decompose as decompose\n",
        "from pandas import Series"
      ]
    },
    {
      "cell_type": "markdown",
      "metadata": {
        "id": "eJGW-NQaNn1M"
      },
      "source": [
        "***\n",
        "<a id='Data_Ingestion'></a>\n",
        "# 1. Data Ingestion\n",
        "\n",
        "The study consists of data for two cities: __*San Juan*__ and __*Iquitos*__\n",
        "\n",
        "The dataset consists of two parts\n",
        "* __dengue_features_train.csv__ : Contains readings for all the factors considered in the study (like humidity, temperature, etc.)\n",
        "* __dengue_labels_train.csv__ : Contains the number of Dengue cases reported on a weekly basis."
      ]
    },
    {
      "cell_type": "code",
      "execution_count": null,
      "metadata": {
        "id": "MbLR09w8pePu"
      },
      "outputs": [],
      "source": [
        "env = 'VSCode'#'Colab'\n",
        "path = '.'\n",
        "\n",
        "if env == 'Colab':\n",
        "    from google.colab import drive\n",
        "    drive.mount('/content/drive')\n",
        "    !ls drive/MyDrive/Dataset\n",
        "    path = 'drive/MyDrive'\n",
        "\n",
        "features = pd.read_csv(f'{path}/Dataset/dengue_features_train.csv')\n",
        "features.week_start_date = pd.to_datetime(features.week_start_date) # Converting the date into a date time object\n",
        "\n",
        "cases = pd.read_csv(f'{path}/Dataset/dengue_labels_train.csv')\n",
        "\n",
        "# Performing an Inner Join on the dataset on the common columns\n",
        "df = pd.merge(features, cases, on = [\"year\", \"weekofyear\", \"city\"])\n",
        "df.index = df.week_start_date\n",
        "df.head()"
      ]
    },
    {
      "cell_type": "markdown",
      "metadata": {},
      "source": [
        "## Counting number of rows and columns in the dataset"
      ]
    },
    {
      "cell_type": "code",
      "execution_count": null,
      "metadata": {},
      "outputs": [],
      "source": [
        "print(f\"Number of attributes: {len(df.columns)}\")\n",
        "print(f\"Number of rows {len(df)}\")"
      ]
    },
    {
      "cell_type": "markdown",
      "metadata": {
        "id": "acpyLIH5P9tb"
      },
      "source": [
        "## As our dataset consists of two different cities, we will perform analysis on each city separately."
      ]
    },
    {
      "cell_type": "code",
      "execution_count": null,
      "metadata": {
        "colab": {
          "base_uri": "https://localhost:8080/"
        },
        "id": "LP1jLWLswZZC",
        "outputId": "e2766fc4-c8f3-4884-ae40-68604bca2862"
      },
      "outputs": [],
      "source": [
        "sj_df = df[df[\"city\"] == 'sj']\n",
        "sj_df.head()"
      ]
    },
    {
      "cell_type": "code",
      "execution_count": null,
      "metadata": {
        "colab": {
          "base_uri": "https://localhost:8080/"
        },
        "id": "ucIk8TZ7zbEv",
        "outputId": "b64955ad-c595-4598-8ddf-94669982bd7f"
      },
      "outputs": [],
      "source": [
        "iq_df = df[df[\"city\"] == 'iq']\n",
        "iq_df.head()"
      ]
    },
    {
      "cell_type": "code",
      "execution_count": null,
      "metadata": {},
      "outputs": [],
      "source": [
        "datasets = {\"San Juan\" : sj_df, \"Iquitos\" : iq_df}\n",
        "for city in datasets:\n",
        "    print(f\"Shape of {city}'s data = {datasets[city].shape}\")"
      ]
    },
    {
      "cell_type": "markdown",
      "metadata": {},
      "source": [
        "***\n",
        "<a id='Summary_Statistics'></a>\n",
        "# 2. Summary Statistics"
      ]
    },
    {
      "cell_type": "code",
      "execution_count": null,
      "metadata": {},
      "outputs": [],
      "source": [
        "sj_df.describe()"
      ]
    },
    {
      "cell_type": "code",
      "execution_count": null,
      "metadata": {},
      "outputs": [],
      "source": [
        "iq_df.describe()"
      ]
    },
    {
      "cell_type": "markdown",
      "metadata": {
        "id": "ZyxiroNiOwvF"
      },
      "source": [
        "## 2.1 Missing Data"
      ]
    },
    {
      "cell_type": "code",
      "execution_count": 16,
      "metadata": {
        "colab": {
          "base_uri": "https://localhost:8080/"
        },
        "id": "63pyHIpBkf3K",
        "outputId": "9fd4e0c6-bf46-4b8b-c8f5-2eefee7334a3"
      },
      "outputs": [
        {
          "name": "stdout",
          "output_type": "stream",
          "text": [
            "San Juan\n",
            "{'city': 0, 'year': 0, 'weekofyear': 0, 'week_start_date': 0, 'ndvi_ne': 191, 'ndvi_nw': 49, 'ndvi_se': 19, 'ndvi_sw': 19, 'precipitation_amt_mm': 9, 'reanalysis_air_temp_k': 6, 'reanalysis_avg_temp_k': 6, 'reanalysis_dew_point_temp_k': 6, 'reanalysis_max_air_temp_k': 6, 'reanalysis_min_air_temp_k': 6, 'reanalysis_precip_amt_kg_per_m2': 6, 'reanalysis_relative_humidity_percent': 6, 'reanalysis_sat_precip_amt_mm': 9, 'reanalysis_specific_humidity_g_per_kg': 6, 'reanalysis_tdtr_k': 6, 'station_avg_temp_c': 6, 'station_diur_temp_rng_c': 6, 'station_max_temp_c': 6, 'station_min_temp_c': 6, 'station_precip_mm': 6, 'total_cases': 0}\n",
            "\n",
            "Fraction of data missing per column:\n",
            "{'city': 0.0, 'year': 0.0, 'weekofyear': 0.0, 'week_start_date': 0.0, 'ndvi_ne': 0.20405982905982906, 'ndvi_nw': 0.05235042735042735, 'ndvi_se': 0.0202991452991453, 'ndvi_sw': 0.0202991452991453, 'precipitation_amt_mm': 0.009615384615384616, 'reanalysis_air_temp_k': 0.00641025641025641, 'reanalysis_avg_temp_k': 0.00641025641025641, 'reanalysis_dew_point_temp_k': 0.00641025641025641, 'reanalysis_max_air_temp_k': 0.00641025641025641, 'reanalysis_min_air_temp_k': 0.00641025641025641, 'reanalysis_precip_amt_kg_per_m2': 0.00641025641025641, 'reanalysis_relative_humidity_percent': 0.00641025641025641, 'reanalysis_sat_precip_amt_mm': 0.009615384615384616, 'reanalysis_specific_humidity_g_per_kg': 0.00641025641025641, 'reanalysis_tdtr_k': 0.00641025641025641, 'station_avg_temp_c': 0.00641025641025641, 'station_diur_temp_rng_c': 0.00641025641025641, 'station_max_temp_c': 0.00641025641025641, 'station_min_temp_c': 0.00641025641025641, 'station_precip_mm': 0.00641025641025641, 'total_cases': 0.0}\n",
            "\n",
            "Total Missing data = 380\n",
            "Total Duplicated data = 0\n",
            "Total Incomplete data = 209\n",
            "------------------------------------------\n",
            "\n",
            "Iquitos\n",
            "{'city': 0, 'year': 0, 'weekofyear': 0, 'week_start_date': 0, 'ndvi_ne': 3, 'ndvi_nw': 3, 'ndvi_se': 3, 'ndvi_sw': 3, 'precipitation_amt_mm': 4, 'reanalysis_air_temp_k': 4, 'reanalysis_avg_temp_k': 4, 'reanalysis_dew_point_temp_k': 4, 'reanalysis_max_air_temp_k': 4, 'reanalysis_min_air_temp_k': 4, 'reanalysis_precip_amt_kg_per_m2': 4, 'reanalysis_relative_humidity_percent': 4, 'reanalysis_sat_precip_amt_mm': 4, 'reanalysis_specific_humidity_g_per_kg': 4, 'reanalysis_tdtr_k': 4, 'station_avg_temp_c': 37, 'station_diur_temp_rng_c': 37, 'station_max_temp_c': 14, 'station_min_temp_c': 8, 'station_precip_mm': 16, 'total_cases': 0}\n",
            "\n",
            "Fraction of data missing per column:\n",
            "{'city': 0.0, 'year': 0.0, 'weekofyear': 0.0, 'week_start_date': 0.0, 'ndvi_ne': 0.0057692307692307696, 'ndvi_nw': 0.0057692307692307696, 'ndvi_se': 0.0057692307692307696, 'ndvi_sw': 0.0057692307692307696, 'precipitation_amt_mm': 0.007692307692307693, 'reanalysis_air_temp_k': 0.007692307692307693, 'reanalysis_avg_temp_k': 0.007692307692307693, 'reanalysis_dew_point_temp_k': 0.007692307692307693, 'reanalysis_max_air_temp_k': 0.007692307692307693, 'reanalysis_min_air_temp_k': 0.007692307692307693, 'reanalysis_precip_amt_kg_per_m2': 0.007692307692307693, 'reanalysis_relative_humidity_percent': 0.007692307692307693, 'reanalysis_sat_precip_amt_mm': 0.007692307692307693, 'reanalysis_specific_humidity_g_per_kg': 0.007692307692307693, 'reanalysis_tdtr_k': 0.007692307692307693, 'station_avg_temp_c': 0.07115384615384615, 'station_diur_temp_rng_c': 0.07115384615384615, 'station_max_temp_c': 0.026923076923076925, 'station_min_temp_c': 0.015384615384615385, 'station_precip_mm': 0.03076923076923077, 'total_cases': 0.0}\n",
            "\n",
            "Total Missing data = 168\n",
            "Total Duplicated data = 0\n",
            "Total Incomplete data = 48\n",
            "------------------------------------------\n",
            "\n"
          ]
        }
      ],
      "source": [
        "for city in datasets:\n",
        "    print(city)\n",
        "    nullVals = datasets[city].isnull()\n",
        "    nullValCounts = nullVals.sum()\n",
        "    print(dict(nullValCounts))\n",
        "    print(f\"\\nFraction of data missing per column:\\n{dict(nullValCounts / len(datasets[city]))}\\n\")\n",
        "    print(f\"Total Missing data = {nullValCounts.sum()}\")\n",
        "    print(f\"Total Duplicated data = {datasets[city].duplicated().sum()}\")\n",
        "    print(f\"Total Incomplete data = {nullVals.any(axis = 1).sum()}\")\n",
        "    print(\"------------------------------------------\\n\")"
      ]
    },
    {
      "cell_type": "markdown",
      "metadata": {
        "id": "JfR59AdySnn2"
      },
      "source": [
        "## 2.2 Outliers\n",
        "Box-Plots to visualize outliers in the number of cases for both the cities"
      ]
    },
    {
      "cell_type": "code",
      "execution_count": null,
      "metadata": {
        "colab": {
          "base_uri": "https://localhost:8080/",
          "height": 1000
        },
        "id": "2bISsHpTNUsB",
        "outputId": "cdd8ead9-149c-41fc-8445-b39e4d01b19c"
      },
      "outputs": [],
      "source": [
        "# Box plot for every year\n",
        "plt.rcParams[\"figure.figsize\"] = 24, 15\n",
        "fig, axs = plt.subplots(2, 1)\n",
        "\n",
        "# Number of cases every year\n",
        "sj_df.boxplot(by = 'year', column = ['total_cases'], ax = axs[0])\n",
        "axs[0].set_title(\"Yearly cases in San Juan\", size = 24)\n",
        "\n",
        "iq_df.boxplot(by = \"year\", column = [\"total_cases\"], ax = axs[1])\n",
        "axs[1].set_title(\"Yearly cases in Iquitos\", size = 24)\n",
        "\n",
        "plt.show()"
      ]
    },
    {
      "cell_type": "markdown",
      "metadata": {},
      "source": [
        "***\n",
        "<a id='Visualization'></a>\n",
        "# 4. Visualization"
      ]
    },
    {
      "cell_type": "markdown",
      "metadata": {},
      "source": [
        "## 4.1 Line Plots"
      ]
    },
    {
      "cell_type": "markdown",
      "metadata": {},
      "source": [
        "### 4.1.1 Line plot to vizualize `Number of cases vs time`, `Humidity vs time` and `temperature vs time`"
      ]
    },
    {
      "cell_type": "code",
      "execution_count": null,
      "metadata": {
        "colab": {
          "base_uri": "https://localhost:8080/",
          "height": 1000
        },
        "id": "1JqXchaY-7XD",
        "outputId": "7e0e482a-fc1f-4c55-c8b5-a37a39e22509"
      },
      "outputs": [],
      "source": [
        "all_concerns = [\n",
        "  'total_cases',\n",
        "  'reanalysis_specific_humidity_g_per_kg',\n",
        "  'reanalysis_avg_temp_k'\n",
        "]\n",
        "\n",
        "labels = [\n",
        "  'Dengue Cases',\n",
        "  'Humidity',\n",
        "  'Average Temperature'\n",
        "]\n",
        "\n",
        "colors = [\"red\", \"green\"]\n",
        "\n",
        "plt.rcParams['figure.figsize'] = (27, 27) #rc -> runtime config\n",
        "fig,ax = plt.subplots(len(all_concerns) * len(datasets), 1) \n",
        "\n",
        "for index, city in enumerate(datasets):\n",
        "  for i,concern in enumerate(all_concerns):\n",
        "    ax[i + index*len(all_concerns)].plot(\n",
        "        datasets[city].index,\n",
        "        datasets[city][concern],\n",
        "        color = colors[0 + index],\n",
        "        label = f\"{labels[i]} in {city}\"\n",
        "    )\n",
        "    ax[i + index*len(all_concerns)].set_title(f\"{labels[i]} vs time\")\n",
        "    ax[i + index*len(all_concerns)].legend()\n",
        "\n",
        "plt.show()"
      ]
    },
    {
      "cell_type": "markdown",
      "metadata": {
        "id": "FofceWhNScN3"
      },
      "source": [
        "### 4.1.2 Finding the number of yearly cases for the cities sj and iq"
      ]
    },
    {
      "cell_type": "code",
      "execution_count": null,
      "metadata": {
        "colab": {
          "base_uri": "https://localhost:8080/"
        },
        "id": "anjaJ1GU7bIS",
        "outputId": "dae72674-6250-4c38-e53b-c9ff0c0be708"
      },
      "outputs": [],
      "source": [
        "sj_df_yearly = pd.DataFrame(\n",
        "    {\n",
        "        \"year\" : np.unique(sj_df['year']),\n",
        "        \"total_cases\" : sj_df.groupby([\"year\"])[\"total_cases\"].sum()\n",
        "    }\n",
        ")\n",
        "\n",
        "iq_df_yearly = pd.DataFrame(\n",
        "    {\n",
        "        \"year\" : np.unique(iq_df['year']),\n",
        "        \"total_cases\" : iq_df.groupby([\"year\"])[\"total_cases\"].sum()\n",
        "    }\n",
        ")\n",
        "\n",
        "plt.rcParams['figure.figsize'] = (25, 7) #rc -> runtime config\n",
        "fig, axs = plt.subplots(1, 2) \n",
        "\n",
        "axs[0].plot(sj_df_yearly.year, sj_df_yearly.total_cases)\n",
        "axs[0].set_title(\"Yearly Cases in San Juan\")\n",
        "\n",
        "axs[1].plot(iq_df_yearly.year, iq_df_yearly.total_cases)\n",
        "axs[1].set_title(\"Yearly Cases in Iquitos\")\n",
        "\n",
        "plt.show()"
      ]
    },
    {
      "cell_type": "markdown",
      "metadata": {
        "id": "1tyjLeJAS5oM"
      },
      "source": [
        "## 4.2 Histograms\n",
        "Understanding the distribution of data for `total number of cases, specific humidity and air temperature in both cities`"
      ]
    },
    {
      "cell_type": "code",
      "execution_count": null,
      "metadata": {
        "colab": {
          "base_uri": "https://localhost:8080/",
          "height": 1000
        },
        "id": "DN_tNFw7Z-MU",
        "outputId": "65ee35f5-ba1d-4343-f8b8-5bbaca407c6c"
      },
      "outputs": [],
      "source": [
        "all_concerns = [\n",
        "  'total_cases',\n",
        "  'reanalysis_specific_humidity_g_per_kg',\n",
        "  'reanalysis_avg_temp_k'\n",
        "]\n",
        "\n",
        "labels = [\n",
        "  'Dengue Cases',\n",
        "  'Humidity',\n",
        "  'Average Temperature'\n",
        "]\n",
        "\n",
        "plt.rcParams[\"figure.figsize\"] = 30, 20\n",
        "fig, axs = plt.subplots(len(all_concerns), len(datasets)) \n",
        "plt.subplots_adjust(hspace = 0.8) #space between plots\n",
        "\n",
        "for index, city in enumerate(datasets):\n",
        "    for i,concern in enumerate(all_concerns):\n",
        "        sns.histplot(datasets[city][concern], ax = axs[i, index], kde = True)\n",
        "        axs[i, index].set_title(f\"{labels[i]} in {city}\",size=14)\n",
        "        \n",
        "\n",
        "plt.show()"
      ]
    },
    {
      "cell_type": "markdown",
      "metadata": {},
      "source": [
        "## 4.3 Correlation matrices"
      ]
    },
    {
      "cell_type": "code",
      "execution_count": null,
      "metadata": {
        "id": "kb3C4R5l5sD5"
      },
      "outputs": [],
      "source": [
        "corr_cases = sj_df.corr()\n",
        "mask = np.triu(np.ones_like(corr_cases, dtype=bool)) # Generate a mask for the upper triangle\n",
        "\n",
        "f, ax = plt.subplots(figsize = (20, 20))\n",
        "sns.heatmap(corr_cases, mask = mask, center = 0, square = True, annot = True)\n",
        "plt.title('Correlation Matrix for San Juan', fontsize = 16)\n",
        "plt.show()"
      ]
    },
    {
      "cell_type": "code",
      "execution_count": null,
      "metadata": {},
      "outputs": [],
      "source": [
        "corr_cases = iq_df.corr()\n",
        "mask = np.triu(np.ones_like(corr_cases, dtype=bool)) # Generate a mask for the upper triangle\n",
        "\n",
        "f, ax = plt.subplots(figsize = (20, 20))\n",
        "sns.heatmap(corr_cases, mask = mask, center = 0, square = True, annot = True)\n",
        "plt.title('Correlation Matrix for Iquitos', fontsize = 16)\n",
        "plt.show()"
      ]
    },
    {
      "cell_type": "markdown",
      "metadata": {},
      "source": [
        "***\n",
        "<a id='Conclusions'></a>\n",
        "# 6. Conclusions\n",
        "\n",
        "- How many rows and attributes?\n",
        "    - San Juan: `(936, 25)`.\n",
        "    - Iquitos : `(520, 25)`.\n",
        "- How many missing data and outliers?\n",
        "    - San Juan: `380 Missing`.\n",
        "    - Iquitos : `168 Missing`.\n",
        "- Any inconsistent, incomplete, duplicate or incorrect data?\n",
        "    - All records in both the datasets are unique.\n",
        "    - Number of incomplete rows in San Juan's data: `209`.\n",
        "    - Number of incomplete rows in Iquitos's data : `48`.\n",
        "- Are the variables correlated to each other?\n",
        "    - San Juan: ``.\n",
        "    - Iquitos : ``.\n",
        "\n",
        "- Are any of the preprocessing techniques needed: rolling average, continuum cubic spline curve, dimensionality reduction, range transformation, standardization, etc.?\n",
        "    - San Juan: ``.\n",
        "    - Iquitos : ``.\n",
        "    \n",
        "- Does PCA help visualize the data? Do we get any insights from histograms/bar charts/line plots, etc.?"
      ]
    },
    {
      "cell_type": "code",
      "execution_count": null,
      "metadata": {},
      "outputs": [],
      "source": []
    }
  ],
  "metadata": {
    "colab": {
      "collapsed_sections": [],
      "name": "EDA-Colab.ipynb",
      "provenance": []
    },
    "interpreter": {
      "hash": "96287154c02bd33d964264908876ff144eece4cbcf76f7700a55934c72d2f956"
    },
    "kernelspec": {
      "display_name": "Python 3.9.5 64-bit ('base': conda)",
      "name": "python3"
    },
    "language_info": {
      "codemirror_mode": {
        "name": "ipython",
        "version": 3
      },
      "file_extension": ".py",
      "mimetype": "text/x-python",
      "name": "python",
      "nbconvert_exporter": "python",
      "pygments_lexer": "ipython3",
      "version": "3.9.5"
    }
  },
  "nbformat": 4,
  "nbformat_minor": 0
}
