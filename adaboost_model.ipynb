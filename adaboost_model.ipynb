{
  "nbformat": 4,
  "nbformat_minor": 0,
  "metadata": {
    "colab": {
      "name": "adaboost_model.ipynb",
      "provenance": []
    },
    "kernelspec": {
      "name": "python3",
      "display_name": "Python 3"
    },
    "language_info": {
      "name": "python"
    }
  },
  "cells": [
    {
      "cell_type": "code",
      "metadata": {
        "id": "PP7ew_S-xe-2"
      },
      "source": [
        "import pandas as pd\n",
        "import matplotlib.pyplot as plt\n",
        "from matplotlib.pyplot import figure\n",
        "import numpy as np\n",
        "import seaborn as sns\n",
        "sns.set()\n",
        "\n",
        "from statsmodels.tsa.seasonal import seasonal_decompose as decompose\n",
        "from pandas import Series\n",
        "from sklearn.decomposition import PCA\n",
        "from sklearn.preprocessing import StandardScaler\n",
        "import datetime as dt\n",
        "from matplotlib.pyplot import figure\n",
        "from statsmodels.tsa.seasonal import seasonal_decompose\n",
        "\n",
        "from sklearn.preprocessing import OrdinalEncoder\n",
        "from sklearn.model_selection import train_test_split\n",
        "from sklearn.ensemble import AdaBoostRegressor\n",
        "from sklearn.ensemble import GradientBoostingRegressor\n",
        "from sklearn.metrics import mean_absolute_error"
      ],
      "execution_count": null,
      "outputs": []
    },
    {
      "cell_type": "code",
      "metadata": {
        "colab": {
          "base_uri": "https://localhost:8080/",
          "height": 327
        },
        "id": "7t-WtKCKxJWB",
        "outputId": "ed9ef420-0faa-4070-e403-7d1558f7f110"
      },
      "source": [
        "env = 'Colab'#'Colab'\n",
        "path = '.'\n",
        "\n",
        "if env == 'Colab':\n",
        "    from google.colab import drive\n",
        "    drive.mount('/content/drive')\n",
        "    !ls drive/MyDrive/Dataset\n",
        "    path = 'drive/MyDrive'\n",
        "\n",
        "features = pd.read_csv(f'{path}/Dataset/dengue_features_train.csv')\n",
        "features.week_start_date = pd.to_datetime(features.week_start_date) # Converting the date into a date time object\n",
        "\n",
        "cases = pd.read_csv(f'{path}/Dataset/dengue_labels_train.csv')\n",
        "\n",
        "# Performing an Inner Join on the dataset on the common columns\n",
        "df = pd.merge(features, cases, on = [\"year\", \"weekofyear\", \"city\"])\n",
        "df.index = df.week_start_date\n",
        "df.head()\n",
        "df.tail()"
      ],
      "execution_count": null,
      "outputs": [
        {
          "output_type": "stream",
          "name": "stdout",
          "text": [
            "Drive already mounted at /content/drive; to attempt to forcibly remount, call drive.mount(\"/content/drive\", force_remount=True).\n",
            "dengue_features_test.csv      dengue_labels_train.csv\n",
            "dengue_features_train.csv     dengue_labels_train.gsheet\n",
            "dengue_features_train.gsheet  submission_format.csv\n"
          ]
        },
        {
          "output_type": "execute_result",
          "data": {
            "text/html": [
              "<div>\n",
              "<style scoped>\n",
              "    .dataframe tbody tr th:only-of-type {\n",
              "        vertical-align: middle;\n",
              "    }\n",
              "\n",
              "    .dataframe tbody tr th {\n",
              "        vertical-align: top;\n",
              "    }\n",
              "\n",
              "    .dataframe thead th {\n",
              "        text-align: right;\n",
              "    }\n",
              "</style>\n",
              "<table border=\"1\" class=\"dataframe\">\n",
              "  <thead>\n",
              "    <tr style=\"text-align: right;\">\n",
              "      <th></th>\n",
              "      <th>city</th>\n",
              "      <th>year</th>\n",
              "      <th>weekofyear</th>\n",
              "      <th>week_start_date</th>\n",
              "      <th>ndvi_ne</th>\n",
              "      <th>ndvi_nw</th>\n",
              "      <th>ndvi_se</th>\n",
              "      <th>ndvi_sw</th>\n",
              "      <th>precipitation_amt_mm</th>\n",
              "      <th>reanalysis_air_temp_k</th>\n",
              "      <th>reanalysis_avg_temp_k</th>\n",
              "      <th>reanalysis_dew_point_temp_k</th>\n",
              "      <th>reanalysis_max_air_temp_k</th>\n",
              "      <th>reanalysis_min_air_temp_k</th>\n",
              "      <th>reanalysis_precip_amt_kg_per_m2</th>\n",
              "      <th>reanalysis_relative_humidity_percent</th>\n",
              "      <th>reanalysis_sat_precip_amt_mm</th>\n",
              "      <th>reanalysis_specific_humidity_g_per_kg</th>\n",
              "      <th>reanalysis_tdtr_k</th>\n",
              "      <th>station_avg_temp_c</th>\n",
              "      <th>station_diur_temp_rng_c</th>\n",
              "      <th>station_max_temp_c</th>\n",
              "      <th>station_min_temp_c</th>\n",
              "      <th>station_precip_mm</th>\n",
              "      <th>total_cases</th>\n",
              "    </tr>\n",
              "    <tr>\n",
              "      <th>week_start_date</th>\n",
              "      <th></th>\n",
              "      <th></th>\n",
              "      <th></th>\n",
              "      <th></th>\n",
              "      <th></th>\n",
              "      <th></th>\n",
              "      <th></th>\n",
              "      <th></th>\n",
              "      <th></th>\n",
              "      <th></th>\n",
              "      <th></th>\n",
              "      <th></th>\n",
              "      <th></th>\n",
              "      <th></th>\n",
              "      <th></th>\n",
              "      <th></th>\n",
              "      <th></th>\n",
              "      <th></th>\n",
              "      <th></th>\n",
              "      <th></th>\n",
              "      <th></th>\n",
              "      <th></th>\n",
              "      <th></th>\n",
              "      <th></th>\n",
              "      <th></th>\n",
              "    </tr>\n",
              "  </thead>\n",
              "  <tbody>\n",
              "    <tr>\n",
              "      <th>2010-05-28</th>\n",
              "      <td>iq</td>\n",
              "      <td>2010</td>\n",
              "      <td>21</td>\n",
              "      <td>2010-05-28</td>\n",
              "      <td>0.342750</td>\n",
              "      <td>0.318900</td>\n",
              "      <td>0.256343</td>\n",
              "      <td>0.292514</td>\n",
              "      <td>55.30</td>\n",
              "      <td>299.334286</td>\n",
              "      <td>300.771429</td>\n",
              "      <td>296.825714</td>\n",
              "      <td>309.7</td>\n",
              "      <td>294.5</td>\n",
              "      <td>45.00</td>\n",
              "      <td>88.765714</td>\n",
              "      <td>55.30</td>\n",
              "      <td>18.485714</td>\n",
              "      <td>9.800000</td>\n",
              "      <td>28.633333</td>\n",
              "      <td>11.933333</td>\n",
              "      <td>35.4</td>\n",
              "      <td>22.4</td>\n",
              "      <td>27.0</td>\n",
              "      <td>5</td>\n",
              "    </tr>\n",
              "    <tr>\n",
              "      <th>2010-06-04</th>\n",
              "      <td>iq</td>\n",
              "      <td>2010</td>\n",
              "      <td>22</td>\n",
              "      <td>2010-06-04</td>\n",
              "      <td>0.160157</td>\n",
              "      <td>0.160371</td>\n",
              "      <td>0.136043</td>\n",
              "      <td>0.225657</td>\n",
              "      <td>86.47</td>\n",
              "      <td>298.330000</td>\n",
              "      <td>299.392857</td>\n",
              "      <td>296.452857</td>\n",
              "      <td>308.5</td>\n",
              "      <td>291.9</td>\n",
              "      <td>207.10</td>\n",
              "      <td>91.600000</td>\n",
              "      <td>86.47</td>\n",
              "      <td>18.070000</td>\n",
              "      <td>7.471429</td>\n",
              "      <td>27.433333</td>\n",
              "      <td>10.500000</td>\n",
              "      <td>34.7</td>\n",
              "      <td>21.7</td>\n",
              "      <td>36.6</td>\n",
              "      <td>8</td>\n",
              "    </tr>\n",
              "    <tr>\n",
              "      <th>2010-06-11</th>\n",
              "      <td>iq</td>\n",
              "      <td>2010</td>\n",
              "      <td>23</td>\n",
              "      <td>2010-06-11</td>\n",
              "      <td>0.247057</td>\n",
              "      <td>0.146057</td>\n",
              "      <td>0.250357</td>\n",
              "      <td>0.233714</td>\n",
              "      <td>58.94</td>\n",
              "      <td>296.598571</td>\n",
              "      <td>297.592857</td>\n",
              "      <td>295.501429</td>\n",
              "      <td>305.5</td>\n",
              "      <td>292.4</td>\n",
              "      <td>50.60</td>\n",
              "      <td>94.280000</td>\n",
              "      <td>58.94</td>\n",
              "      <td>17.008571</td>\n",
              "      <td>7.500000</td>\n",
              "      <td>24.400000</td>\n",
              "      <td>6.900000</td>\n",
              "      <td>32.2</td>\n",
              "      <td>19.2</td>\n",
              "      <td>7.4</td>\n",
              "      <td>1</td>\n",
              "    </tr>\n",
              "    <tr>\n",
              "      <th>2010-06-18</th>\n",
              "      <td>iq</td>\n",
              "      <td>2010</td>\n",
              "      <td>24</td>\n",
              "      <td>2010-06-18</td>\n",
              "      <td>0.333914</td>\n",
              "      <td>0.245771</td>\n",
              "      <td>0.278886</td>\n",
              "      <td>0.325486</td>\n",
              "      <td>59.67</td>\n",
              "      <td>296.345714</td>\n",
              "      <td>297.521429</td>\n",
              "      <td>295.324286</td>\n",
              "      <td>306.1</td>\n",
              "      <td>291.9</td>\n",
              "      <td>62.33</td>\n",
              "      <td>94.660000</td>\n",
              "      <td>59.67</td>\n",
              "      <td>16.815714</td>\n",
              "      <td>7.871429</td>\n",
              "      <td>25.433333</td>\n",
              "      <td>8.733333</td>\n",
              "      <td>31.2</td>\n",
              "      <td>21.0</td>\n",
              "      <td>16.0</td>\n",
              "      <td>1</td>\n",
              "    </tr>\n",
              "    <tr>\n",
              "      <th>2010-06-25</th>\n",
              "      <td>iq</td>\n",
              "      <td>2010</td>\n",
              "      <td>25</td>\n",
              "      <td>2010-06-25</td>\n",
              "      <td>0.298186</td>\n",
              "      <td>0.232971</td>\n",
              "      <td>0.274214</td>\n",
              "      <td>0.315757</td>\n",
              "      <td>63.22</td>\n",
              "      <td>298.097143</td>\n",
              "      <td>299.835714</td>\n",
              "      <td>295.807143</td>\n",
              "      <td>307.8</td>\n",
              "      <td>292.3</td>\n",
              "      <td>36.90</td>\n",
              "      <td>89.082857</td>\n",
              "      <td>63.22</td>\n",
              "      <td>17.355714</td>\n",
              "      <td>11.014286</td>\n",
              "      <td>27.475000</td>\n",
              "      <td>9.900000</td>\n",
              "      <td>33.7</td>\n",
              "      <td>22.2</td>\n",
              "      <td>20.4</td>\n",
              "      <td>4</td>\n",
              "    </tr>\n",
              "  </tbody>\n",
              "</table>\n",
              "</div>"
            ],
            "text/plain": [
              "                city  year  ...  station_precip_mm total_cases\n",
              "week_start_date             ...                               \n",
              "2010-05-28        iq  2010  ...               27.0           5\n",
              "2010-06-04        iq  2010  ...               36.6           8\n",
              "2010-06-11        iq  2010  ...                7.4           1\n",
              "2010-06-18        iq  2010  ...               16.0           1\n",
              "2010-06-25        iq  2010  ...               20.4           4\n",
              "\n",
              "[5 rows x 25 columns]"
            ]
          },
          "metadata": {},
          "execution_count": 3
        }
      ]
    },
    {
      "cell_type": "code",
      "metadata": {
        "colab": {
          "base_uri": "https://localhost:8080/",
          "height": 667
        },
        "id": "9JQo8QevyJf8",
        "outputId": "c4679fd5-7ab5-4a63-f4ca-b45f17d06c0d"
      },
      "source": [
        "def pcaAnalysis(dfs_list,num_components): #work on the imputed data\n",
        "    dfs,original_dfs = dfs_list\n",
        "\n",
        "    for i,x in enumerate(dfs):\n",
        "        print(len(original_dfs[i].columns),len(x.columns))\n",
        "        print(x.columns)\n",
        "\n",
        "    # for i in range(len(dfs)):\n",
        "    #     try:\n",
        "    #         dfs[i].drop(['weekofyear','year'],axis=1,inplace=True)\n",
        "    #     except Exception as e:\n",
        "    #         print(e)\n",
        "\n",
        "    #     try:\n",
        "    #         dfs[i].drop(['month'],axis=1,inplace=True)\n",
        "    #     except Exception as e:\n",
        "    #         print(e)\n",
        "        \n",
        "\n",
        "    details = {\n",
        "        0:['iq','red'],\n",
        "        1:['sj','blue']\n",
        "    }\n",
        "\n",
        "    sc = StandardScaler()\n",
        "    pca = PCA()\n",
        "    res = []\n",
        "    \n",
        "    #number of components to keep can be explained with the help of \n",
        "    #explained variance ratio as a function of the number of components\n",
        "    #it is the percentage of variance attributed to each of the selected component\n",
        "    #hence we shld go on adding components until the total variance ratio is upto 80% or so to avoid overfitting\n",
        "\n",
        "    for df_indx,adf in enumerate(dfs):\n",
        "        adf = adf.drop('city',1)\n",
        "        \n",
        "        #convert datetime to ordinal value from datetime object for normalization\n",
        "        adf['week_start_date'] = adf['week_start_date'].map(dt.datetime.toordinal)\n",
        "        try:\n",
        "            adf = sc.fit_transform(adf)\n",
        "            adf_pca = pca.fit(adf)\n",
        "        except Exception as e:\n",
        "            print(e)\n",
        "            print(adf)\n",
        "        \n",
        "        \n",
        "        plt.plot(\n",
        "            np.cumsum(pca.explained_variance_ratio_),\n",
        "            label = details[df_indx][0],\n",
        "            color = details[df_indx][1],\n",
        "        )\n",
        "\n",
        "        pca = PCA(num_components)\n",
        "        adf_pca = pca.fit_transform(adf)\n",
        "\n",
        "        #get the most important features\n",
        "        #pca.components_ is a list of eigenvector magnitudes for each priciple component\n",
        "        most_imp = [np.abs(pca.components_[i]).argmax() for i in range(pca.n_components_)]\n",
        "        most_imp_names = [original_dfs[df_indx].columns[most_imp[i]] for i in range(pca.n_components_)]\n",
        "        res.append(most_imp_names)\n",
        "\n",
        "    plt.xlabel(\"number of components\")\n",
        "    plt.ylabel('cumulative explained variance')\n",
        "    plt.legend()\n",
        "    plt.plot()\n",
        "    return res\n",
        "\n",
        "important_columns = pcaAnalysis([\n",
        "                                 [iq_df_imputed,sj_df_imputed],\n",
        "                                 [iq_df,sj_df]\n",
        "                            ],15+2)"
      ],
      "execution_count": null,
      "outputs": [
        {
          "output_type": "stream",
          "name": "stdout",
          "text": [
            "25 25\n",
            "Index(['city', 'year', 'weekofyear', 'week_start_date', 'ndvi_ne', 'ndvi_nw',\n",
            "       'ndvi_se', 'ndvi_sw', 'precipitation_amt_mm', 'reanalysis_air_temp_k',\n",
            "       'reanalysis_avg_temp_k', 'reanalysis_dew_point_temp_k',\n",
            "       'reanalysis_max_air_temp_k', 'reanalysis_min_air_temp_k',\n",
            "       'reanalysis_precip_amt_kg_per_m2',\n",
            "       'reanalysis_relative_humidity_percent', 'reanalysis_sat_precip_amt_mm',\n",
            "       'reanalysis_specific_humidity_g_per_kg', 'reanalysis_tdtr_k',\n",
            "       'station_avg_temp_c', 'station_diur_temp_rng_c', 'station_max_temp_c',\n",
            "       'station_min_temp_c', 'station_precip_mm', 'total_cases'],\n",
            "      dtype='object')\n",
            "25 25\n",
            "Index(['city', 'year', 'weekofyear', 'week_start_date', 'ndvi_ne', 'ndvi_nw',\n",
            "       'ndvi_se', 'ndvi_sw', 'precipitation_amt_mm', 'reanalysis_air_temp_k',\n",
            "       'reanalysis_avg_temp_k', 'reanalysis_dew_point_temp_k',\n",
            "       'reanalysis_max_air_temp_k', 'reanalysis_min_air_temp_k',\n",
            "       'reanalysis_precip_amt_kg_per_m2',\n",
            "       'reanalysis_relative_humidity_percent', 'reanalysis_sat_precip_amt_mm',\n",
            "       'reanalysis_specific_humidity_g_per_kg', 'reanalysis_tdtr_k',\n",
            "       'station_avg_temp_c', 'station_diur_temp_rng_c', 'station_max_temp_c',\n",
            "       'station_min_temp_c', 'station_precip_mm', 'total_cases'],\n",
            "      dtype='object')\n"
          ]
        },
        {
          "output_type": "display_data",
          "data": {
            "image/png": "[encoded data removed]",
            "text/plain": [
              "<Figure size 432x288 with 1 Axes>"
            ]
          },
          "metadata": {}
        }
      ]
    },
    {
      "cell_type": "code",
      "metadata": {
        "id": "BSEqdPxrxOvB"
      },
      "source": [
        "#ordinal value encoder object\n",
        "ENC = OrdinalEncoder()\n",
        "#scaling object for training dataset\n",
        "boostSC = None\n",
        "#scaling object for testing objectdataset\n",
        "testSC = None"
      ],
      "execution_count": null,
      "outputs": []
    },
    {
      "cell_type": "code",
      "metadata": {
        "id": "pFSoZ5j9xmai"
      },
      "source": [
        "def cityToNumeric(city):\n",
        "    global ENC\n",
        "    city_enc = ENC.fit_transform(city.values.reshape(-1,1))\n",
        "    return city_enc"
      ],
      "execution_count": null,
      "outputs": []
    },
    {
      "cell_type": "code",
      "metadata": {
        "id": "eyLH8NYfxrPZ"
      },
      "source": [
        "def scale_me(boostSc,dataX,dataY):\n",
        "    dataXY = boostSc.transform(pd.concat([dataX,dataY],axis=1))\n",
        "    print(dataXY.shape,type(dataXY))\n",
        "    return dataXY[:,0:-1],dataXY[:,-1]"
      ],
      "execution_count": null,
      "outputs": []
    },
    {
      "cell_type": "code",
      "metadata": {
        "id": "3PPs6pofxuKQ"
      },
      "source": [
        "def adaboostModel(boostdf,important_columns):\n",
        "    #drop unwanted column\n",
        "    boostdf = boostdf.drop(['weekofyear','week_start_date'],axis=1)\n",
        "\n",
        "    #encode city to numeric value so that we can normalize it\n",
        "    boostdf['city'] = cityToNumeric(boostdf['city'])\n",
        "    \n",
        "    #extract table subset comprising of needed columns only\n",
        "    pca_cols = list(set(important_columns) - set(['weekofyear','week_start_date','year']))+['city']\n",
        "    newBoostdf = boostdf[pca_cols+['total_cases']]\n",
        "\n",
        "    #features and label\n",
        "    data_y = newBoostdf['total_cases']\n",
        "    data_x = boostdf[pca_cols]\n",
        "\n",
        "    #trainig  and validation set\n",
        "    train_x,val_x,train_y,val_y= train_test_split(data_x,data_y,test_size=0.1,shuffle=False)\n",
        "\n",
        "    #original validation label\n",
        "    orig_val_y = val_y\n",
        "\n",
        "    #scale the data\n",
        "    boostSc = StandardScaler().fit(newBoostdf)\n",
        "    global boostSC\n",
        "    boostSC = boostSc\n",
        "\n",
        "    train_x,train_y = scale_me(boostSc,train_x,train_y)\n",
        "    val_x,val_y = scale_me(boostSc,val_x,val_y)\n",
        "\n",
        "    #adaboost model\n",
        "    model = AdaBoostRegressor(base_estimator=GradientBoostingRegressor(\n",
        "    max_depth=5, \n",
        "    min_samples_split=2, \n",
        "    loss='squared_error',n_estimators=400, \n",
        "    learning_rate=.1, random_state=1)).fit(train_x,train_y)\n",
        "    \n",
        "    print(model.score(train_x,train_y))\n",
        "\n",
        "    #validation\n",
        "    y_hat = model.predict(val_x)\n",
        "    #cocatenate both the numpy matrices to get the original shape dataframe fr inverse transformation\n",
        "    y_pred = np.reshape(y_hat,(y_hat.shape[0],1))\n",
        "    res = np.concatenate((val_x,y_pred),axis=1)\n",
        "    y_sub = boostSC.inverse_transform(\n",
        "        res\n",
        "    )\n",
        "    y_final = np.abs(y_sub[:,-1].astype(int))\n",
        "    results = pd.DataFrame({\n",
        "        \"actual\":list(orig_val_y),\n",
        "        \"prediction\":y_final\n",
        "    })\n",
        "    print(mean_absolute_error(y_final,orig_val_y))\n",
        "    return results,model"
      ],
      "execution_count": null,
      "outputs": []
    },
    {
      "cell_type": "code",
      "metadata": {
        "id": "gmgo29V3xxeu"
      },
      "source": [
        "def testModel(path,sj_df_imputed,iq_df_imputed):\n",
        "    #create combined dataset\n",
        "    boostdf = sj_df_imputed\n",
        "    boostdf = boostdf.append(iq_df_imputed)\n",
        "\n",
        "    return adaboostModel(boostdf,important_columns[0])"
      ],
      "execution_count": null,
      "outputs": []
    },
    {
      "cell_type": "code",
      "metadata": {
        "id": "wmL5vPocx2aB"
      },
      "source": [
        "sj_df = df[df[\"city\"] == 'sj']\n",
        "iq_df = df[df[\"city\"] == 'iq']"
      ],
      "execution_count": null,
      "outputs": []
    },
    {
      "cell_type": "code",
      "metadata": {
        "colab": {
          "base_uri": "https://localhost:8080/"
        },
        "id": "CcPV-BKRyIyK",
        "outputId": "5866e128-0fc0-4967-d41c-91434f450602"
      },
      "source": [
        "def imputeMissing(dfs):\n",
        "    print(len(dfs[0].columns),len(dfs[-1].columns))\n",
        "    for adf in dfs:\n",
        "        for col in adf.columns[adf.isna().any()].tolist():\n",
        "            adf[col].interpolate(method=\"time\",inplace=True)\n",
        "    return iq_df,sj_df\n",
        "\n",
        "iq_df_imputed,sj_df_imputed = imputeMissing([iq_df,sj_df])"
      ],
      "execution_count": null,
      "outputs": [
        {
          "output_type": "stream",
          "name": "stdout",
          "text": [
            "25 25\n"
          ]
        },
        {
          "output_type": "stream",
          "name": "stderr",
          "text": [
            "/usr/local/lib/python3.7/dist-packages/ipykernel_launcher.py:5: SettingWithCopyWarning: \n",
            "A value is trying to be set on a copy of a slice from a DataFrame\n",
            "\n",
            "See the caveats in the documentation: https://pandas.pydata.org/pandas-docs/stable/user_guide/indexing.html#returning-a-view-versus-a-copy\n",
            "  \"\"\"\n"
          ]
        }
      ]
    },
    {
      "cell_type": "code",
      "metadata": {
        "colab": {
          "base_uri": "https://localhost:8080/"
        },
        "id": "35fI--3ryNWQ",
        "outputId": "74972345-1997-4e48-f9b9-bc722c50cc0d"
      },
      "source": [
        "cross_val_df,model = testModel(path,sj_df_imputed,iq_df_imputed)"
      ],
      "execution_count": null,
      "outputs": [
        {
          "output_type": "stream",
          "name": "stdout",
          "text": [
            "(1310, 13) <class 'numpy.ndarray'>\n",
            "(146, 13) <class 'numpy.ndarray'>\n",
            "0.9946045891355192\n",
            "9.116438356164384\n"
          ]
        }
      ]
    },
    {
      "cell_type": "code",
      "metadata": {
        "colab": {
          "base_uri": "https://localhost:8080/"
        },
        "id": "fuUUi5k51_KH",
        "outputId": "a6acf708-dc33-4231-ac74-e90791ec64b5"
      },
      "source": [
        "print(cross_val_df)"
      ],
      "execution_count": null,
      "outputs": [
        {
          "output_type": "stream",
          "name": "stdout",
          "text": [
            "     actual  prediction\n",
            "0         7           6\n",
            "1         5           2\n",
            "2         2           6\n",
            "3         6          11\n",
            "4        11          15\n",
            "..      ...         ...\n",
            "141       5          20\n",
            "142       8           5\n",
            "143       1          11\n",
            "144       1           1\n",
            "145       4           7\n",
            "\n",
            "[146 rows x 2 columns]\n"
          ]
        }
      ]
    }
  ]
}